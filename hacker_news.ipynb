{
 "cells": [
  {
   "cell_type": "markdown",
   "metadata": {},
   "source": [
    "# Exploring Hackers News Posts\n",
    "In this project, we'll compare two different types of posts from Hacker News, a popular site where technology related stories (or 'posts') are voted and commented upon. The two types of posts we'll explore begin with either Ask HN or Show HN.\n",
    "\n",
    "Users submit Ask HN posts to ask the Hacker News community a specific question, such as \"What is the best online course you've ever taken?\" Likewise, users submit Show HN posts to show the Hacker News community a project, product, or just generally something interesting.\n",
    "\n",
    "We'll specifically compare these two types of posts to determine the following:\n",
    "\n",
    "* Do Ask HN or Show HN receive more comments on average?\n",
    "* Do posts created at a certain time receive more comments on average?\n",
    "\n",
    "It should be noted that the data set we're working with was reduced from almost 300,000 rows to approximately 20,000 rows by removing all submissions that did not receive any comments, and then randomly sampling from the remaining submissions."
   ]
  },
  {
   "cell_type": "markdown",
   "metadata": {},
   "source": [
    "### Introduction\n",
    "First, we'll read in the data and remove the headers."
   ]
  },
  {
   "cell_type": "code",
   "execution_count": 1,
   "metadata": {},
   "outputs": [
    {
     "name": "stdout",
     "output_type": "stream",
     "text": [
      "[['id', 'title', 'url', 'num_points', 'num_comments', 'author', 'created_at'], ['11966167', 'UK votes to leave EU', 'http://www.bbc.co.uk/news/uk-politics-36615028', '3125', '2531', 'dmmalam', '6/24/2016 3:48'], ['12445994', 'iPhone 7', 'http://www.apple.com/iPhone7', '756', '1733', 'benigeri', '9/7/2016 18:52'], ['11807450', 'Moving Forward on Basic Income', 'http://blog.ycombinator.com/moving-forward-on-basic-income', '1330', '1448', 'dwaxe', '5/31/2016 16:20'], ['10982340', 'Request For Research: Basic Income', 'https://blog.ycombinator.com/basic-income', '1876', '1120', 'mattkrisiloff', '1/27/2016 19:23'], ['11814828', 'Ask HN: Who is hiring? (June 2016)', '', '644', '1007', 'whoishiring', '6/1/2016 15:01']]\n"
     ]
    }
   ],
   "source": [
    "from csv import reader\n",
    "hn=list(reader(open(\"hacker_news.csv\")))\n",
    "print(hn[:6])"
   ]
  },
  {
   "cell_type": "code",
   "execution_count": 2,
   "metadata": {},
   "outputs": [
    {
     "data": {
      "text/plain": [
       "['id', 'title', 'url', 'num_points', 'num_comments', 'author', 'created_at']"
      ]
     },
     "execution_count": 2,
     "metadata": {},
     "output_type": "execute_result"
    }
   ],
   "source": [
    "header=hn[0]\n",
    "header"
   ]
  },
  {
   "cell_type": "code",
   "execution_count": 3,
   "metadata": {},
   "outputs": [
    {
     "data": {
      "text/plain": [
       "[['11966167',\n",
       "  'UK votes to leave EU',\n",
       "  'http://www.bbc.co.uk/news/uk-politics-36615028',\n",
       "  '3125',\n",
       "  '2531',\n",
       "  'dmmalam',\n",
       "  '6/24/2016 3:48'],\n",
       " ['12445994',\n",
       "  'iPhone 7',\n",
       "  'http://www.apple.com/iPhone7',\n",
       "  '756',\n",
       "  '1733',\n",
       "  'benigeri',\n",
       "  '9/7/2016 18:52'],\n",
       " ['11807450',\n",
       "  'Moving Forward on Basic Income',\n",
       "  'http://blog.ycombinator.com/moving-forward-on-basic-income',\n",
       "  '1330',\n",
       "  '1448',\n",
       "  'dwaxe',\n",
       "  '5/31/2016 16:20'],\n",
       " ['10982340',\n",
       "  'Request For Research: Basic Income',\n",
       "  'https://blog.ycombinator.com/basic-income',\n",
       "  '1876',\n",
       "  '1120',\n",
       "  'mattkrisiloff',\n",
       "  '1/27/2016 19:23'],\n",
       " ['11814828',\n",
       "  'Ask HN: Who is hiring? (June 2016)',\n",
       "  '',\n",
       "  '644',\n",
       "  '1007',\n",
       "  'whoishiring',\n",
       "  '6/1/2016 15:01'],\n",
       " ['11049067',\n",
       "  'GitHub is undergoing a full-blown overhaul as execs and employees depart',\n",
       "  'http://www.businessinsider.com/github-the-full-inside-story-2016-2',\n",
       "  '808',\n",
       "  '973',\n",
       "  'easyd',\n",
       "  '2/6/2016 18:43']]"
      ]
     },
     "execution_count": 3,
     "metadata": {},
     "output_type": "execute_result"
    }
   ],
   "source": [
    "hn=hn[1:]\n",
    "hn[:6]"
   ]
  },
  {
   "cell_type": "code",
   "execution_count": 4,
   "metadata": {},
   "outputs": [],
   "source": [
    "ask_posts,show_posts,other_posts=[],[],[]\n",
    "for items in hn:\n",
    "    if items[1].lower().startswith(\"ask hn\"):\n",
    "        ask_posts.append(items)\n",
    "    elif items[1].lower().startswith(\"show hn\"):\n",
    "        show_posts.append(items)\n",
    "    else:\n",
    "        other_posts.append(items)"
   ]
  },
  {
   "cell_type": "code",
   "execution_count": 5,
   "metadata": {},
   "outputs": [
    {
     "name": "stdout",
     "output_type": "stream",
     "text": [
      "74.0994652406417\n"
     ]
    }
   ],
   "source": [
    "total_ask_comments=0\n",
    "for items in ask_posts:\n",
    "    total_ask_comments+=int(items[4])\n",
    "\n",
    "avg_ask_comments=total_ask_comments/len(ask_posts)\n",
    "print(avg_ask_comments)"
   ]
  },
  {
   "cell_type": "code",
   "execution_count": 6,
   "metadata": {},
   "outputs": [
    {
     "name": "stdout",
     "output_type": "stream",
     "text": [
      "49.34550561797753\n"
     ]
    }
   ],
   "source": [
    "total_show_comments=0\n",
    "for items in show_posts:\n",
    "    total_show_comments+=int(items[4])\n",
    "print(total_show_comments/len(show_posts))"
   ]
  },
  {
   "cell_type": "markdown",
   "metadata": {},
   "source": [
    "On average, ask posts in our sample receive approximately 14 comments, whereas show posts receive approximately 10. Since ask posts are more likely to receive comments, we'll focus our remaining analysis just on these posts."
   ]
  },
  {
   "cell_type": "markdown",
   "metadata": {},
   "source": [
    "### Finding the Amount of Ask Posts and Comments by Hour Created\n",
    "Next, we'll determine if we can maximize the amount of comments an ask post receives by creating it at a certain time. First, we'll find the amount of ask posts created during each hour of day, along with the number of comments those posts received. Then, we'll calculate the average amount of comments ask posts created at each hour of the day receive."
   ]
  },
  {
   "cell_type": "code",
   "execution_count": 7,
   "metadata": {},
   "outputs": [],
   "source": [
    "import datetime as dt\n",
    "\n",
    "result_list=[]\n",
    "for items in ask_posts:\n",
    "    result_list.append([items[6],int(items[4])])\n",
    "    \n",
    "counts_by_hour={}\n",
    "comments_by_hour={}\n",
    "for item in result_list:\n",
    "    hour=dt.datetime.strptime(item[0],\"%m/%d/%Y %H:%M\")\n",
    "    hour=dt.datetime.strftime(hour,\"%H\")\n",
    "    if hour not in counts_by_hour:\n",
    "        counts_by_hour[hour]=1\n",
    "        comments_by_hour[hour]=int(item[1])\n",
    "    else:\n",
    "        counts_by_hour[hour]+=1\n",
    "        comments_by_hour[hour]+=int(item[1])\n"
   ]
  },
  {
   "cell_type": "markdown",
   "metadata": {},
   "source": [
    "Sorting and Printing Values from a List of Lists"
   ]
  },
  {
   "cell_type": "code",
   "execution_count": 8,
   "metadata": {},
   "outputs": [],
   "source": [
    "avg_by_hour=[]\n",
    "for item,num_comment in counts_by_hour.items():\n",
    "    avg_by_hour.append([item,round(comments_by_hour[item]/num_comment,2)])\n",
    "    \n",
    "swap_avg_by_hour=[]\n",
    "for hr,num_comment in avg_by_hour:\n",
    "    swap_avg_by_hour.append([num_comment,hr])\n",
    "    \n",
    "sorted_swap=sorted(swap_avg_by_hour,reverse=True)"
   ]
  },
  {
   "cell_type": "code",
   "execution_count": 11,
   "metadata": {},
   "outputs": [
    {
     "name": "stdout",
     "output_type": "stream",
     "text": [
      "15:00 190.91 average comments per post.\n",
      "13:00 95.14 average comments per post.\n",
      "02:00 76.69 average comments per post.\n",
      "05:00 73.18 average comments per post.\n",
      "12:00 70.73 average comments per post.\n"
     ]
    }
   ],
   "source": [
    "for cm,hr in sorted_swap[:5]:\n",
    "    print(\"{h} {c} average comments per post.\".format(h=dt.datetime.strftime(dt.datetime.strptime(hr,\"%H\"),\"%H:%M\"),c=cm))"
   ]
  },
  {
   "cell_type": "markdown",
   "metadata": {},
   "source": [
    "The hour that receives the most comments per post on average is 15:00, with an average of 190.91 comments per post. There's about a 100% increase in the number of comments between the hours with the highest and second highest average number of comments."
   ]
  },
  {
   "cell_type": "markdown",
   "metadata": {},
   "source": [
    "## Conclusion\n",
    "In this project, we analyzed ask posts and show posts to determine which type of post and time receive the most comments on average. Based on our analysis, to maximize the amount of comments a post receives, we'd recommend the post be categorized as ask post and created between 15:00 and 16:00 (3:00 pm est - 4:00 pm est).\n",
    "\n",
    "However, it should be noted that the data set we analyzed excluded posts without any comments. Given that, it's more accurate to say that of the posts that received comments, ask posts received more comments on average and ask posts created between 15:00 and 16:00 (3:00 pm est - 4:00 pm est) received the most comments on average."
   ]
  }
 ],
 "metadata": {
  "kernelspec": {
   "display_name": "Python 3",
   "language": "python",
   "name": "python3"
  },
  "language_info": {
   "codemirror_mode": {
    "name": "ipython",
    "version": 3
   },
   "file_extension": ".py",
   "mimetype": "text/x-python",
   "name": "python",
   "nbconvert_exporter": "python",
   "pygments_lexer": "ipython3",
   "version": "3.8.5"
  }
 },
 "nbformat": 4,
 "nbformat_minor": 4
}
